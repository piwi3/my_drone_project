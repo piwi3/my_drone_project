{
 "cells": [
  {
   "cell_type": "code",
   "execution_count": 1,
   "id": "af92ac7f",
   "metadata": {},
   "outputs": [],
   "source": [
    "# Basics\n",
    "import mediapipe as mp\n",
    "import cv2\n",
    "import numpy as np\n",
    "import time\n",
    "import matplotlib.pyplot as plt\n",
    "import os\n",
    "from datetime import datetime, timedelta\n",
    "\n",
    "# For modelling\n",
    "from sklearn.model_selection import train_test_split\n",
    "from tensorflow.keras.utils import to_categorical\n",
    "from tensorflow.keras.models import Sequential\n",
    "from tensorflow.keras.layers import Dense\n",
    "from tensorflow.keras.callbacks import TensorBoard\n",
    "from tensorflow.keras import backend as K\n",
    "from sklearn.metrics import confusion_matrix, ConfusionMatrixDisplay\n",
    "from tensorflow.keras.models import load_model"
   ]
  },
  {
   "cell_type": "markdown",
   "id": "091da9a0",
   "metadata": {},
   "source": [
    "# Define key functions and test mediapipe model"
   ]
  },
  {
   "cell_type": "code",
   "execution_count": 2,
   "id": "8b2a4648",
   "metadata": {},
   "outputs": [],
   "source": [
    "mp_drawing = mp.solutions.drawing_utils\n",
    "mp_holistic = mp.solutions.holistic"
   ]
  },
  {
   "cell_type": "code",
   "execution_count": 3,
   "id": "4ad10b2e",
   "metadata": {},
   "outputs": [],
   "source": [
    "def mediapipe_detection(image, model):\n",
    "    image = cv2.cvtColor(image, cv2.COLOR_BGR2RGB)\n",
    "    image.flags.writeable = False\n",
    "    results = model.process(image)\n",
    "    image.flags.writeable = True\n",
    "    image = cv2.cvtColor(image, cv2.COLOR_RGB2BGR)\n",
    "    return image, results"
   ]
  },
  {
   "cell_type": "code",
   "execution_count": 4,
   "id": "45b3c9d7",
   "metadata": {},
   "outputs": [],
   "source": [
    "def draw_landmarks(image, results):\n",
    "    mp_drawing.draw_landmarks(image, results.right_hand_landmarks, mp_holistic.HAND_CONNECTIONS)\n",
    "    mp_drawing.draw_landmarks(image, results.left_hand_landmarks, mp_holistic.HAND_CONNECTIONS)"
   ]
  },
  {
   "cell_type": "code",
   "execution_count": 5,
   "id": "daaca02a",
   "metadata": {},
   "outputs": [],
   "source": [
    "def get_bbox_coords(results):\n",
    "    try:\n",
    "        x_min = min(res.x for res in results.right_hand_landmarks.landmark)\n",
    "        y_min = min(res.y for res in results.right_hand_landmarks.landmark)\n",
    "        x_max = max(res.x for res in results.right_hand_landmarks.landmark)\n",
    "        y_max = max(res.y for res in results.right_hand_landmarks.landmark)\n",
    "        return x_min, y_min, x_max, y_max\n",
    "    except: \n",
    "        return 0, 0, 0, 0"
   ]
  },
  {
   "cell_type": "code",
   "execution_count": 6,
   "id": "0fe8283a",
   "metadata": {},
   "outputs": [],
   "source": [
    "def draw_bbox(image, results):\n",
    "    coords = get_bbox_coords(results)\n",
    "    #print(tuple(np.multiply(coords, [1920, 1080, 1920, 1080]).astype(int)))\n",
    "    cv2.rectangle(image,\n",
    "                  tuple(np.multiply(coords[:2], [1920, 1080]).astype(int)),\n",
    "                  tuple(np.multiply(coords[2:], [1920, 1080]).astype(int)),\n",
    "                  (0,0,255), 2)"
   ]
  },
  {
   "cell_type": "code",
   "execution_count": 7,
   "id": "0639885d",
   "metadata": {},
   "outputs": [],
   "source": [
    "# Define function to extract all values for right hand only!\n",
    "def extract_keypoints(results):\n",
    "    \"\"\"\n",
    "    Extracts key points from results vector delivered by holistic medipipe model.\n",
    "    \"\"\"\n",
    "    rhand = np.zeros(21*3)\n",
    "    if results.right_hand_landmarks:\n",
    "        rhand = np.array([[result.x, result.y, result.z] \n",
    "                          for result in results.right_hand_landmarks.landmark]).flatten()\n",
    "        \n",
    "    return rhand"
   ]
  },
  {
   "cell_type": "code",
   "execution_count": 42,
   "id": "c6ee7d1b",
   "metadata": {
    "scrolled": true
   },
   "outputs": [],
   "source": [
    "cap = cv2.VideoCapture(1)\n",
    "cv2.startWindowThread()\n",
    "# Initiate holistic model\n",
    "with mp_holistic.Holistic(min_detection_confidence=0.5, min_tracking_confidence=0.5) as holistic:\n",
    "    \n",
    "    while cap.isOpened():\n",
    "        # Read frame\n",
    "        ret, frame = cap.read()\n",
    "        \n",
    "        # Make Detections\n",
    "        image, results = mediapipe_detection(frame, holistic)\n",
    "\n",
    "        # Draw face_landmarks, pose_landmarks, left_hand_landmarks, right_hand_landmarks\n",
    "        draw_landmarks(image, results)\n",
    "        \n",
    "        # Draw bbox\n",
    "        draw_bbox(image, results)\n",
    "        \n",
    "        # Show to screen\n",
    "        cv2.imshow('Video Feed', image)\n",
    "        cv2.waitKey(1)\n",
    "\n",
    "        # Break program\n",
    "        if cv2.waitKey(1) & 0xFF == ord('q'):\n",
    "            break\n",
    "\n",
    "    cap.release()\n",
    "    cv2.destroyAllWindows()"
   ]
  },
  {
   "cell_type": "code",
   "execution_count": 43,
   "id": "ec77bef3",
   "metadata": {},
   "outputs": [],
   "source": [
    "cap.release()\n",
    "cv2.destroyAllWindows()"
   ]
  },
  {
   "cell_type": "code",
   "execution_count": null,
   "id": "0032f2bc",
   "metadata": {},
   "outputs": [],
   "source": [
    "# Test shape of extracted keypoints\n",
    "# extract_keypoints(results).shape, 21 * 3"
   ]
  },
  {
   "cell_type": "markdown",
   "id": "9dbb05c4",
   "metadata": {},
   "source": [
    "# Setup folder structure"
   ]
  },
  {
   "cell_type": "code",
   "execution_count": 8,
   "id": "e8bc3cf1",
   "metadata": {},
   "outputs": [],
   "source": [
    "actions = ['fist', 'palm', 'index', 'ok', 'thumb_up']\n",
    "imgs_per_action = 55"
   ]
  },
  {
   "cell_type": "code",
   "execution_count": 9,
   "id": "62b1a8bd",
   "metadata": {},
   "outputs": [],
   "source": [
    "base_path = '../../data/hand_detection_mp/'"
   ]
  },
  {
   "cell_type": "code",
   "execution_count": null,
   "id": "b445b98e",
   "metadata": {},
   "outputs": [],
   "source": [
    "# Delete existing files\n",
    "#for action in actions:\n",
    " #   for file in os.listdir(os.path.join(base_path, action)):\n",
    "  #      os.remove(os.path.join(base_path, action, file))"
   ]
  },
  {
   "cell_type": "markdown",
   "id": "7d7095e0",
   "metadata": {},
   "source": [
    "# Generate data for hand gestures"
   ]
  },
  {
   "cell_type": "code",
   "execution_count": null,
   "id": "3e52178e",
   "metadata": {},
   "outputs": [],
   "source": [
    "# Take pictures for each ction and save landmarks as numpy array\n",
    "cap = cv2.VideoCapture(1)\n",
    "# Initiate holistic model\n",
    "with mp_holistic.Holistic(min_detection_confidence=0.5, min_tracking_confidence=0.5) as holistic:\n",
    "    \n",
    "    for action in actions:\n",
    "        for img_num in range(imgs_per_action):\n",
    "            \n",
    "            # Read frame\n",
    "            ret, frame = cap.read()\n",
    "\n",
    "            # Make Detections\n",
    "            image, results = mediapipe_detection(frame, holistic)\n",
    "\n",
    "            # Draw face_landmarks, pose_landmarks, left_hand_landmarks, right_hand_landmarks\n",
    "            draw_landmarks(image, results)\n",
    "\n",
    "            # Apply wait logic\n",
    "            if img_num == 0: \n",
    "                cv2.putText(image, 'STARTING COLLECTION', (100,200), \n",
    "                           cv2.FONT_HERSHEY_SIMPLEX, 1, (0,255, 0), 4, cv2.LINE_AA)\n",
    "                cv2.putText(image, f'Collecting frames for {action}', (15,50), \n",
    "                           cv2.FONT_HERSHEY_SIMPLEX, 1, (0, 0, 255), 2, cv2.LINE_AA)\n",
    "                # Show to screen\n",
    "                cv2.imshow('OpenCV Feed', image)\n",
    "                cv2.waitKey(3000)\n",
    "            else: \n",
    "                cv2.putText(image, f'Collecting frames for {action}, ({img_num}/{imgs_per_action})', (15,50), \n",
    "                           cv2.FONT_HERSHEY_SIMPLEX, 1, (0, 0, 255), 2, cv2.LINE_AA)\n",
    "                # Show to screen\n",
    "                cv2.imshow('OpenCV Feed', image)\n",
    "                cv2.waitKey(1000)\n",
    "\n",
    "            # Export keypoints\n",
    "            keypoints = extract_keypoints(results)\n",
    "            npy_path = os.path.join(base_path, action, f'keypoints_{action}_{img_num}')\n",
    "            np.save(npy_path, keypoints)\n",
    "\n",
    "\n",
    "\n",
    "            # Break program\n",
    "            if cv2.waitKey(10) & 0xFF == ord('q'):\n",
    "                break\n",
    "                \n",
    "        # Break program\n",
    "        if cv2.waitKey(10) & 0xFF == ord('q'):\n",
    "            break\n",
    "\n",
    "    cap.release()\n",
    "    cv2.destroyAllWindows()"
   ]
  },
  {
   "cell_type": "code",
   "execution_count": null,
   "id": "bce79ede",
   "metadata": {},
   "outputs": [],
   "source": [
    "cap.release()\n",
    "cv2.destroyAllWindows()"
   ]
  },
  {
   "cell_type": "markdown",
   "id": "fc0dda37",
   "metadata": {},
   "source": [
    "# Preprocess the data"
   ]
  },
  {
   "cell_type": "code",
   "execution_count": 10,
   "id": "d9747451",
   "metadata": {},
   "outputs": [
    {
     "data": {
      "text/plain": [
       "{'fist': 0, 'palm': 1, 'index': 2, 'ok': 3, 'thumb_up': 4}"
      ]
     },
     "execution_count": 10,
     "metadata": {},
     "output_type": "execute_result"
    }
   ],
   "source": [
    "label_map = {action:num for num, action in enumerate(actions)}\n",
    "label_map"
   ]
  },
  {
   "cell_type": "code",
   "execution_count": 11,
   "id": "6a11d9b4",
   "metadata": {},
   "outputs": [],
   "source": [
    "images, labels = [], []\n",
    "for action in actions:\n",
    "    for file in os.listdir(os.path.join(base_path, action)):\n",
    "        res = np.load(os.path.join(base_path, action, file))\n",
    "        if all(res != np.zeros(21*3)):\n",
    "            images.append(res)\n",
    "            labels.append(label_map[action])"
   ]
  },
  {
   "cell_type": "code",
   "execution_count": 12,
   "id": "c82b02d9",
   "metadata": {},
   "outputs": [
    {
     "data": {
      "text/plain": [
       "((63,), 258, 258)"
      ]
     },
     "execution_count": 12,
     "metadata": {},
     "output_type": "execute_result"
    }
   ],
   "source": [
    "images[0].shape, len(images), len(labels)"
   ]
  },
  {
   "cell_type": "code",
   "execution_count": 13,
   "id": "96ba7053",
   "metadata": {},
   "outputs": [
    {
     "data": {
      "text/plain": [
       "(258, 63)"
      ]
     },
     "execution_count": 13,
     "metadata": {},
     "output_type": "execute_result"
    }
   ],
   "source": [
    "X = np.array(images)\n",
    "X.shape"
   ]
  },
  {
   "cell_type": "code",
   "execution_count": 14,
   "id": "f882a1c0",
   "metadata": {},
   "outputs": [
    {
     "data": {
      "text/plain": [
       "(258, 5)"
      ]
     },
     "execution_count": 14,
     "metadata": {},
     "output_type": "execute_result"
    }
   ],
   "source": [
    "y = to_categorical(labels).astype(int)\n",
    "y.shape"
   ]
  },
  {
   "cell_type": "code",
   "execution_count": 15,
   "id": "abb89ddf",
   "metadata": {},
   "outputs": [],
   "source": [
    "X_train, X_test, y_train, y_test = train_test_split(X, y, test_size=0.1, stratify=y)"
   ]
  },
  {
   "cell_type": "code",
   "execution_count": 16,
   "id": "8814b762",
   "metadata": {},
   "outputs": [
    {
     "data": {
      "text/plain": [
       "((232, 63), (232, 5), (26, 63), (26, 5))"
      ]
     },
     "execution_count": 16,
     "metadata": {},
     "output_type": "execute_result"
    }
   ],
   "source": [
    "X_train.shape, y_train.shape, X_test.shape, y_test.shape"
   ]
  },
  {
   "cell_type": "markdown",
   "id": "c33277ec",
   "metadata": {},
   "source": [
    "# Create neuronal network"
   ]
  },
  {
   "cell_type": "code",
   "execution_count": 17,
   "id": "8ea7521c",
   "metadata": {},
   "outputs": [],
   "source": [
    "K.clear_session()"
   ]
  },
  {
   "cell_type": "code",
   "execution_count": 18,
   "id": "bc9ee3fe",
   "metadata": {},
   "outputs": [],
   "source": [
    "model = Sequential()\n",
    "model.add(Dense(32, activation='relu', input_shape=(63,)))\n",
    "model.add(Dense(32, activation='relu'))\n",
    "model.add(Dense(32, activation='relu'))\n",
    "model.add(Dense(len(actions), activation='softmax'))"
   ]
  },
  {
   "cell_type": "code",
   "execution_count": 19,
   "id": "aa1223d6",
   "metadata": {},
   "outputs": [],
   "source": [
    "model.compile(optimizer='Adam', loss='categorical_crossentropy', metrics=['categorical_accuracy'])"
   ]
  },
  {
   "cell_type": "code",
   "execution_count": 20,
   "id": "f47f796e",
   "metadata": {
    "scrolled": true
   },
   "outputs": [
    {
     "name": "stdout",
     "output_type": "stream",
     "text": [
      "Epoch 1/250\n",
      "7/7 [==============================] - 0s 28ms/step - loss: 1.6137 - categorical_accuracy: 0.2404 - val_loss: 1.5964 - val_categorical_accuracy: 0.2083\n",
      "Epoch 2/250\n",
      "7/7 [==============================] - 0s 10ms/step - loss: 1.6010 - categorical_accuracy: 0.2260 - val_loss: 1.6237 - val_categorical_accuracy: 0.2500\n",
      "Epoch 3/250\n",
      "7/7 [==============================] - 0s 11ms/step - loss: 1.5934 - categorical_accuracy: 0.2885 - val_loss: 1.6273 - val_categorical_accuracy: 0.1667\n",
      "Epoch 4/250\n",
      "7/7 [==============================] - 0s 10ms/step - loss: 1.5905 - categorical_accuracy: 0.2644 - val_loss: 1.6250 - val_categorical_accuracy: 0.2083\n",
      "Epoch 5/250\n",
      "7/7 [==============================] - 0s 10ms/step - loss: 1.5826 - categorical_accuracy: 0.3221 - val_loss: 1.6203 - val_categorical_accuracy: 0.2500\n",
      "Epoch 6/250\n",
      "7/7 [==============================] - 0s 10ms/step - loss: 1.5779 - categorical_accuracy: 0.3558 - val_loss: 1.6185 - val_categorical_accuracy: 0.2500\n",
      "Epoch 7/250\n",
      "7/7 [==============================] - 0s 10ms/step - loss: 1.5708 - categorical_accuracy: 0.3510 - val_loss: 1.5994 - val_categorical_accuracy: 0.2917\n",
      "Epoch 8/250\n",
      "7/7 [==============================] - 0s 10ms/step - loss: 1.5610 - categorical_accuracy: 0.4135 - val_loss: 1.5941 - val_categorical_accuracy: 0.2500\n",
      "Epoch 9/250\n",
      "7/7 [==============================] - 0s 10ms/step - loss: 1.5495 - categorical_accuracy: 0.4327 - val_loss: 1.5875 - val_categorical_accuracy: 0.2500\n",
      "Epoch 10/250\n",
      "7/7 [==============================] - 0s 9ms/step - loss: 1.5366 - categorical_accuracy: 0.3990 - val_loss: 1.5788 - val_categorical_accuracy: 0.2500\n",
      "Epoch 11/250\n",
      "7/7 [==============================] - 0s 10ms/step - loss: 1.5194 - categorical_accuracy: 0.4038 - val_loss: 1.5730 - val_categorical_accuracy: 0.2500\n",
      "Epoch 12/250\n",
      "7/7 [==============================] - 0s 10ms/step - loss: 1.5066 - categorical_accuracy: 0.4087 - val_loss: 1.5665 - val_categorical_accuracy: 0.2500\n",
      "Epoch 13/250\n",
      "7/7 [==============================] - 0s 11ms/step - loss: 1.4873 - categorical_accuracy: 0.4135 - val_loss: 1.5553 - val_categorical_accuracy: 0.2083\n",
      "Epoch 14/250\n",
      "7/7 [==============================] - 0s 11ms/step - loss: 1.4684 - categorical_accuracy: 0.4087 - val_loss: 1.5368 - val_categorical_accuracy: 0.2917\n",
      "Epoch 15/250\n",
      "7/7 [==============================] - 0s 11ms/step - loss: 1.4405 - categorical_accuracy: 0.4038 - val_loss: 1.5301 - val_categorical_accuracy: 0.2500\n",
      "Epoch 16/250\n",
      "7/7 [==============================] - 0s 11ms/step - loss: 1.4205 - categorical_accuracy: 0.4423 - val_loss: 1.5053 - val_categorical_accuracy: 0.2917\n",
      "Epoch 17/250\n",
      "7/7 [==============================] - 0s 11ms/step - loss: 1.3952 - categorical_accuracy: 0.4712 - val_loss: 1.4832 - val_categorical_accuracy: 0.2500\n",
      "Epoch 18/250\n",
      "7/7 [==============================] - 0s 10ms/step - loss: 1.3705 - categorical_accuracy: 0.4519 - val_loss: 1.4662 - val_categorical_accuracy: 0.2917\n",
      "Epoch 19/250\n",
      "7/7 [==============================] - 0s 10ms/step - loss: 1.3440 - categorical_accuracy: 0.4712 - val_loss: 1.4506 - val_categorical_accuracy: 0.2917\n",
      "Epoch 20/250\n",
      "7/7 [==============================] - 0s 10ms/step - loss: 1.3086 - categorical_accuracy: 0.5096 - val_loss: 1.4090 - val_categorical_accuracy: 0.2917\n",
      "Epoch 21/250\n",
      "7/7 [==============================] - 0s 10ms/step - loss: 1.2776 - categorical_accuracy: 0.4856 - val_loss: 1.3778 - val_categorical_accuracy: 0.2917\n",
      "Epoch 22/250\n",
      "7/7 [==============================] - 0s 10ms/step - loss: 1.2527 - categorical_accuracy: 0.4567 - val_loss: 1.3599 - val_categorical_accuracy: 0.2917\n",
      "Epoch 23/250\n",
      "7/7 [==============================] - 0s 10ms/step - loss: 1.2186 - categorical_accuracy: 0.5337 - val_loss: 1.3298 - val_categorical_accuracy: 0.3333\n",
      "Epoch 24/250\n",
      "7/7 [==============================] - 0s 9ms/step - loss: 1.1889 - categorical_accuracy: 0.5673 - val_loss: 1.2866 - val_categorical_accuracy: 0.3333\n",
      "Epoch 25/250\n",
      "7/7 [==============================] - 0s 9ms/step - loss: 1.1609 - categorical_accuracy: 0.5865 - val_loss: 1.2506 - val_categorical_accuracy: 0.3750\n",
      "Epoch 26/250\n",
      "7/7 [==============================] - 0s 9ms/step - loss: 1.1290 - categorical_accuracy: 0.5817 - val_loss: 1.2059 - val_categorical_accuracy: 0.3333\n",
      "Epoch 27/250\n",
      "7/7 [==============================] - 0s 10ms/step - loss: 1.0945 - categorical_accuracy: 0.5913 - val_loss: 1.1814 - val_categorical_accuracy: 0.3333\n",
      "Epoch 28/250\n",
      "7/7 [==============================] - 0s 11ms/step - loss: 1.0758 - categorical_accuracy: 0.6106 - val_loss: 1.1502 - val_categorical_accuracy: 0.3333\n",
      "Epoch 29/250\n",
      "7/7 [==============================] - 0s 11ms/step - loss: 1.0512 - categorical_accuracy: 0.5865 - val_loss: 1.1506 - val_categorical_accuracy: 0.2917\n",
      "Epoch 30/250\n",
      "7/7 [==============================] - 0s 11ms/step - loss: 1.0319 - categorical_accuracy: 0.5913 - val_loss: 1.1358 - val_categorical_accuracy: 0.4167\n",
      "Epoch 31/250\n",
      "7/7 [==============================] - 0s 12ms/step - loss: 1.0183 - categorical_accuracy: 0.5721 - val_loss: 1.1016 - val_categorical_accuracy: 0.4167\n",
      "Epoch 32/250\n",
      "7/7 [==============================] - 0s 11ms/step - loss: 0.9991 - categorical_accuracy: 0.6154 - val_loss: 1.0555 - val_categorical_accuracy: 0.5000\n",
      "Epoch 33/250\n",
      "7/7 [==============================] - 0s 11ms/step - loss: 0.9737 - categorical_accuracy: 0.6154 - val_loss: 1.0460 - val_categorical_accuracy: 0.4583\n",
      "Epoch 34/250\n",
      "7/7 [==============================] - 0s 12ms/step - loss: 0.9459 - categorical_accuracy: 0.6298 - val_loss: 1.0405 - val_categorical_accuracy: 0.3750\n",
      "Epoch 35/250\n",
      "7/7 [==============================] - 0s 11ms/step - loss: 0.9308 - categorical_accuracy: 0.6394 - val_loss: 0.9744 - val_categorical_accuracy: 0.6250\n",
      "Epoch 36/250\n",
      "7/7 [==============================] - 0s 12ms/step - loss: 0.9117 - categorical_accuracy: 0.6635 - val_loss: 0.9711 - val_categorical_accuracy: 0.5000\n",
      "Epoch 37/250\n",
      "7/7 [==============================] - 0s 11ms/step - loss: 0.8983 - categorical_accuracy: 0.6490 - val_loss: 0.9391 - val_categorical_accuracy: 0.6250\n",
      "Epoch 38/250\n",
      "7/7 [==============================] - 0s 11ms/step - loss: 0.8763 - categorical_accuracy: 0.6442 - val_loss: 0.9592 - val_categorical_accuracy: 0.5417\n",
      "Epoch 39/250\n",
      "7/7 [==============================] - 0s 10ms/step - loss: 0.8627 - categorical_accuracy: 0.6538 - val_loss: 0.9197 - val_categorical_accuracy: 0.4583\n",
      "Epoch 40/250\n",
      "7/7 [==============================] - 0s 10ms/step - loss: 0.8469 - categorical_accuracy: 0.7019 - val_loss: 0.8928 - val_categorical_accuracy: 0.5000\n",
      "Epoch 41/250\n",
      "7/7 [==============================] - 0s 10ms/step - loss: 0.8381 - categorical_accuracy: 0.6779 - val_loss: 0.9078 - val_categorical_accuracy: 0.4583\n",
      "Epoch 42/250\n",
      "7/7 [==============================] - 0s 11ms/step - loss: 0.8351 - categorical_accuracy: 0.6779 - val_loss: 0.8303 - val_categorical_accuracy: 0.7083\n",
      "Epoch 43/250\n",
      "7/7 [==============================] - 0s 9ms/step - loss: 0.8101 - categorical_accuracy: 0.6731 - val_loss: 0.9059 - val_categorical_accuracy: 0.4167\n",
      "Epoch 44/250\n",
      "7/7 [==============================] - 0s 9ms/step - loss: 0.8057 - categorical_accuracy: 0.6827 - val_loss: 0.8284 - val_categorical_accuracy: 0.6667\n",
      "Epoch 45/250\n",
      "7/7 [==============================] - 0s 9ms/step - loss: 0.7972 - categorical_accuracy: 0.6971 - val_loss: 0.8070 - val_categorical_accuracy: 0.6250\n",
      "Epoch 46/250\n",
      "7/7 [==============================] - 0s 9ms/step - loss: 0.7754 - categorical_accuracy: 0.7212 - val_loss: 0.8254 - val_categorical_accuracy: 0.5833\n",
      "Epoch 47/250\n",
      "7/7 [==============================] - 0s 10ms/step - loss: 0.7632 - categorical_accuracy: 0.7163 - val_loss: 0.7833 - val_categorical_accuracy: 0.7083\n",
      "Epoch 48/250\n",
      "7/7 [==============================] - 0s 10ms/step - loss: 0.7568 - categorical_accuracy: 0.7500 - val_loss: 0.7760 - val_categorical_accuracy: 0.6667\n",
      "Epoch 49/250\n",
      "7/7 [==============================] - 0s 9ms/step - loss: 0.7618 - categorical_accuracy: 0.7115 - val_loss: 0.7740 - val_categorical_accuracy: 0.6250\n",
      "Epoch 50/250\n",
      "7/7 [==============================] - 0s 9ms/step - loss: 0.7332 - categorical_accuracy: 0.7548 - val_loss: 0.7309 - val_categorical_accuracy: 0.7500\n"
     ]
    },
    {
     "name": "stdout",
     "output_type": "stream",
     "text": [
      "Epoch 51/250\n",
      "7/7 [==============================] - 0s 10ms/step - loss: 0.7560 - categorical_accuracy: 0.7308 - val_loss: 0.7564 - val_categorical_accuracy: 0.7500\n",
      "Epoch 52/250\n",
      "7/7 [==============================] - 0s 9ms/step - loss: 0.7375 - categorical_accuracy: 0.6971 - val_loss: 0.8111 - val_categorical_accuracy: 0.4167\n",
      "Epoch 53/250\n",
      "7/7 [==============================] - 0s 9ms/step - loss: 0.7173 - categorical_accuracy: 0.7212 - val_loss: 0.6776 - val_categorical_accuracy: 0.8333\n",
      "Epoch 54/250\n",
      "7/7 [==============================] - 0s 9ms/step - loss: 0.7110 - categorical_accuracy: 0.7885 - val_loss: 0.7194 - val_categorical_accuracy: 0.7500\n",
      "Epoch 55/250\n",
      "7/7 [==============================] - 0s 9ms/step - loss: 0.7020 - categorical_accuracy: 0.7644 - val_loss: 0.7269 - val_categorical_accuracy: 0.5833\n",
      "Epoch 56/250\n",
      "7/7 [==============================] - 0s 10ms/step - loss: 0.7049 - categorical_accuracy: 0.7692 - val_loss: 0.6814 - val_categorical_accuracy: 0.7917\n",
      "Epoch 57/250\n",
      "7/7 [==============================] - 0s 9ms/step - loss: 0.6911 - categorical_accuracy: 0.7356 - val_loss: 0.6920 - val_categorical_accuracy: 0.7083\n",
      "Epoch 58/250\n",
      "7/7 [==============================] - 0s 10ms/step - loss: 0.6753 - categorical_accuracy: 0.7933 - val_loss: 0.6281 - val_categorical_accuracy: 0.8750\n",
      "Epoch 59/250\n",
      "7/7 [==============================] - 0s 9ms/step - loss: 0.6527 - categorical_accuracy: 0.8125 - val_loss: 0.7011 - val_categorical_accuracy: 0.5000\n",
      "Epoch 60/250\n",
      "7/7 [==============================] - 0s 9ms/step - loss: 0.6561 - categorical_accuracy: 0.8029 - val_loss: 0.6237 - val_categorical_accuracy: 0.8333\n",
      "Epoch 61/250\n",
      "7/7 [==============================] - 0s 9ms/step - loss: 0.6387 - categorical_accuracy: 0.8462 - val_loss: 0.6347 - val_categorical_accuracy: 0.8333\n",
      "Epoch 62/250\n",
      "7/7 [==============================] - 0s 10ms/step - loss: 0.6314 - categorical_accuracy: 0.8413 - val_loss: 0.6336 - val_categorical_accuracy: 0.7500\n",
      "Epoch 63/250\n",
      "7/7 [==============================] - 0s 10ms/step - loss: 0.6189 - categorical_accuracy: 0.8558 - val_loss: 0.6055 - val_categorical_accuracy: 0.8333\n",
      "Epoch 64/250\n",
      "7/7 [==============================] - 0s 10ms/step - loss: 0.6105 - categorical_accuracy: 0.8510 - val_loss: 0.5715 - val_categorical_accuracy: 0.9167\n",
      "Epoch 65/250\n",
      "7/7 [==============================] - 0s 10ms/step - loss: 0.6048 - categorical_accuracy: 0.8990 - val_loss: 0.6346 - val_categorical_accuracy: 0.7917\n",
      "Epoch 66/250\n",
      "7/7 [==============================] - 0s 10ms/step - loss: 0.6027 - categorical_accuracy: 0.7933 - val_loss: 0.5379 - val_categorical_accuracy: 0.9167\n",
      "Epoch 67/250\n",
      "7/7 [==============================] - 0s 10ms/step - loss: 0.6037 - categorical_accuracy: 0.8413 - val_loss: 0.5855 - val_categorical_accuracy: 0.7500\n",
      "Epoch 68/250\n",
      "7/7 [==============================] - 0s 10ms/step - loss: 0.5766 - categorical_accuracy: 0.8269 - val_loss: 0.5089 - val_categorical_accuracy: 0.9167\n",
      "Epoch 69/250\n",
      "7/7 [==============================] - 0s 10ms/step - loss: 0.5729 - categorical_accuracy: 0.9135 - val_loss: 0.5690 - val_categorical_accuracy: 0.7500\n",
      "Epoch 70/250\n",
      "7/7 [==============================] - 0s 10ms/step - loss: 0.5665 - categorical_accuracy: 0.8221 - val_loss: 0.4785 - val_categorical_accuracy: 0.9167\n",
      "Epoch 71/250\n",
      "7/7 [==============================] - 0s 9ms/step - loss: 0.5553 - categorical_accuracy: 0.8798 - val_loss: 0.6142 - val_categorical_accuracy: 0.6250\n",
      "Epoch 72/250\n",
      "7/7 [==============================] - 0s 9ms/step - loss: 0.5502 - categorical_accuracy: 0.8317 - val_loss: 0.4711 - val_categorical_accuracy: 0.8750\n",
      "Epoch 73/250\n",
      "7/7 [==============================] - 0s 10ms/step - loss: 0.5426 - categorical_accuracy: 0.8558 - val_loss: 0.6596 - val_categorical_accuracy: 0.5000\n",
      "Epoch 74/250\n",
      "7/7 [==============================] - 0s 10ms/step - loss: 0.5335 - categorical_accuracy: 0.8365 - val_loss: 0.4745 - val_categorical_accuracy: 0.9167\n",
      "Epoch 75/250\n",
      "7/7 [==============================] - 0s 9ms/step - loss: 0.5428 - categorical_accuracy: 0.8606 - val_loss: 0.5900 - val_categorical_accuracy: 0.7083\n",
      "Epoch 76/250\n",
      "7/7 [==============================] - 0s 9ms/step - loss: 0.5481 - categorical_accuracy: 0.8558 - val_loss: 0.4638 - val_categorical_accuracy: 0.9167\n",
      "Epoch 77/250\n",
      "7/7 [==============================] - 0s 9ms/step - loss: 0.5281 - categorical_accuracy: 0.8413 - val_loss: 0.4556 - val_categorical_accuracy: 0.9167\n",
      "Epoch 78/250\n",
      "7/7 [==============================] - 0s 9ms/step - loss: 0.4817 - categorical_accuracy: 0.9567 - val_loss: 0.4826 - val_categorical_accuracy: 0.7917\n",
      "Epoch 79/250\n",
      "7/7 [==============================] - 0s 10ms/step - loss: 0.4815 - categorical_accuracy: 0.9471 - val_loss: 0.4372 - val_categorical_accuracy: 0.9167\n",
      "Epoch 80/250\n",
      "7/7 [==============================] - 0s 9ms/step - loss: 0.4785 - categorical_accuracy: 0.9471 - val_loss: 0.4480 - val_categorical_accuracy: 0.9167\n",
      "Epoch 81/250\n",
      "7/7 [==============================] - 0s 9ms/step - loss: 0.4518 - categorical_accuracy: 0.9615 - val_loss: 0.4293 - val_categorical_accuracy: 0.9167\n",
      "Epoch 82/250\n",
      "7/7 [==============================] - 0s 10ms/step - loss: 0.4304 - categorical_accuracy: 0.9519 - val_loss: 0.4081 - val_categorical_accuracy: 0.9167\n",
      "Epoch 83/250\n",
      "7/7 [==============================] - 0s 10ms/step - loss: 0.4194 - categorical_accuracy: 0.9663 - val_loss: 0.4172 - val_categorical_accuracy: 0.9167\n",
      "Epoch 84/250\n",
      "7/7 [==============================] - 0s 9ms/step - loss: 0.4192 - categorical_accuracy: 0.9519 - val_loss: 0.3882 - val_categorical_accuracy: 0.9167\n",
      "Epoch 85/250\n",
      "7/7 [==============================] - 0s 9ms/step - loss: 0.4205 - categorical_accuracy: 0.9663 - val_loss: 0.4304 - val_categorical_accuracy: 0.7500\n",
      "Epoch 86/250\n",
      "7/7 [==============================] - 0s 10ms/step - loss: 0.4012 - categorical_accuracy: 0.9279 - val_loss: 0.3589 - val_categorical_accuracy: 0.9583\n",
      "Epoch 87/250\n",
      "7/7 [==============================] - 0s 9ms/step - loss: 0.4164 - categorical_accuracy: 0.9375 - val_loss: 0.3782 - val_categorical_accuracy: 0.9167\n",
      "Epoch 88/250\n",
      "7/7 [==============================] - 0s 10ms/step - loss: 0.3955 - categorical_accuracy: 0.9663 - val_loss: 0.4118 - val_categorical_accuracy: 0.7500\n",
      "Epoch 89/250\n",
      "7/7 [==============================] - 0s 10ms/step - loss: 0.3695 - categorical_accuracy: 0.9808 - val_loss: 0.3545 - val_categorical_accuracy: 0.9167\n",
      "Epoch 90/250\n",
      "7/7 [==============================] - 0s 9ms/step - loss: 0.3632 - categorical_accuracy: 0.9712 - val_loss: 0.3411 - val_categorical_accuracy: 0.9167\n",
      "Epoch 91/250\n",
      "7/7 [==============================] - 0s 9ms/step - loss: 0.3512 - categorical_accuracy: 0.9808 - val_loss: 0.3782 - val_categorical_accuracy: 0.8750\n",
      "Epoch 92/250\n",
      "7/7 [==============================] - 0s 10ms/step - loss: 0.3614 - categorical_accuracy: 0.9615 - val_loss: 0.3514 - val_categorical_accuracy: 0.9167\n",
      "Epoch 93/250\n",
      "7/7 [==============================] - 0s 10ms/step - loss: 0.3370 - categorical_accuracy: 0.9663 - val_loss: 0.3408 - val_categorical_accuracy: 0.9167\n",
      "Epoch 94/250\n",
      "7/7 [==============================] - 0s 10ms/step - loss: 0.3289 - categorical_accuracy: 0.9712 - val_loss: 0.3300 - val_categorical_accuracy: 0.9167\n",
      "Epoch 95/250\n",
      "7/7 [==============================] - 0s 9ms/step - loss: 0.3235 - categorical_accuracy: 0.9808 - val_loss: 0.3333 - val_categorical_accuracy: 0.9167\n",
      "Epoch 96/250\n",
      "7/7 [==============================] - 0s 10ms/step - loss: 0.3163 - categorical_accuracy: 0.9712 - val_loss: 0.3315 - val_categorical_accuracy: 0.9167\n",
      "Epoch 97/250\n",
      "7/7 [==============================] - 0s 10ms/step - loss: 0.3137 - categorical_accuracy: 0.9760 - val_loss: 0.3226 - val_categorical_accuracy: 0.9167\n",
      "Epoch 98/250\n",
      "7/7 [==============================] - 0s 10ms/step - loss: 0.3173 - categorical_accuracy: 0.9808 - val_loss: 0.3585 - val_categorical_accuracy: 0.8750\n",
      "Epoch 99/250\n",
      "7/7 [==============================] - 0s 10ms/step - loss: 0.3033 - categorical_accuracy: 0.9760 - val_loss: 0.3177 - val_categorical_accuracy: 0.9167\n",
      "Epoch 100/250\n",
      "7/7 [==============================] - 0s 10ms/step - loss: 0.3061 - categorical_accuracy: 0.9663 - val_loss: 0.3098 - val_categorical_accuracy: 0.9583\n"
     ]
    },
    {
     "name": "stdout",
     "output_type": "stream",
     "text": [
      "Epoch 101/250\n",
      "7/7 [==============================] - 0s 10ms/step - loss: 0.2969 - categorical_accuracy: 0.9712 - val_loss: 0.3111 - val_categorical_accuracy: 0.9167\n",
      "Epoch 102/250\n",
      "7/7 [==============================] - 0s 10ms/step - loss: 0.2820 - categorical_accuracy: 0.9808 - val_loss: 0.3210 - val_categorical_accuracy: 0.9167\n",
      "Epoch 103/250\n",
      "7/7 [==============================] - 0s 9ms/step - loss: 0.2921 - categorical_accuracy: 0.9760 - val_loss: 0.2961 - val_categorical_accuracy: 0.9167\n",
      "Epoch 104/250\n",
      "7/7 [==============================] - 0s 9ms/step - loss: 0.2799 - categorical_accuracy: 0.9760 - val_loss: 0.2963 - val_categorical_accuracy: 0.9583\n",
      "Epoch 105/250\n",
      "7/7 [==============================] - 0s 9ms/step - loss: 0.2881 - categorical_accuracy: 0.9567 - val_loss: 0.4136 - val_categorical_accuracy: 0.7500\n",
      "Epoch 106/250\n",
      "7/7 [==============================] - 0s 9ms/step - loss: 0.2959 - categorical_accuracy: 0.9663 - val_loss: 0.3129 - val_categorical_accuracy: 0.9167\n",
      "Epoch 107/250\n",
      "7/7 [==============================] - 0s 10ms/step - loss: 0.2811 - categorical_accuracy: 0.9519 - val_loss: 0.3215 - val_categorical_accuracy: 0.9583\n",
      "Epoch 108/250\n",
      "7/7 [==============================] - 0s 10ms/step - loss: 0.2797 - categorical_accuracy: 0.9760 - val_loss: 0.2971 - val_categorical_accuracy: 0.9167\n",
      "Epoch 109/250\n",
      "7/7 [==============================] - 0s 10ms/step - loss: 0.2622 - categorical_accuracy: 0.9808 - val_loss: 0.3137 - val_categorical_accuracy: 0.9167\n",
      "Epoch 110/250\n",
      "7/7 [==============================] - 0s 10ms/step - loss: 0.2554 - categorical_accuracy: 0.9760 - val_loss: 0.2852 - val_categorical_accuracy: 0.9583\n",
      "Epoch 111/250\n",
      "7/7 [==============================] - 0s 10ms/step - loss: 0.2615 - categorical_accuracy: 0.9808 - val_loss: 0.2909 - val_categorical_accuracy: 0.9167\n",
      "Epoch 112/250\n",
      "7/7 [==============================] - 0s 10ms/step - loss: 0.2463 - categorical_accuracy: 0.9808 - val_loss: 0.3085 - val_categorical_accuracy: 0.9167\n",
      "Epoch 113/250\n",
      "7/7 [==============================] - 0s 10ms/step - loss: 0.2683 - categorical_accuracy: 0.9760 - val_loss: 0.2855 - val_categorical_accuracy: 0.9583\n",
      "Epoch 114/250\n",
      "7/7 [==============================] - 0s 9ms/step - loss: 0.2594 - categorical_accuracy: 0.9760 - val_loss: 0.3009 - val_categorical_accuracy: 0.9167\n",
      "Epoch 115/250\n",
      "7/7 [==============================] - 0s 10ms/step - loss: 0.2354 - categorical_accuracy: 0.9808 - val_loss: 0.2923 - val_categorical_accuracy: 0.9167\n",
      "Epoch 116/250\n",
      "7/7 [==============================] - 0s 9ms/step - loss: 0.2489 - categorical_accuracy: 0.9808 - val_loss: 0.3690 - val_categorical_accuracy: 0.7917\n",
      "Epoch 117/250\n",
      "7/7 [==============================] - 0s 9ms/step - loss: 0.2677 - categorical_accuracy: 0.9663 - val_loss: 0.2823 - val_categorical_accuracy: 0.9583\n",
      "Epoch 118/250\n",
      "7/7 [==============================] - 0s 10ms/step - loss: 0.2496 - categorical_accuracy: 0.9663 - val_loss: 0.2967 - val_categorical_accuracy: 0.9583\n",
      "Epoch 119/250\n",
      "7/7 [==============================] - 0s 9ms/step - loss: 0.2313 - categorical_accuracy: 0.9808 - val_loss: 0.3743 - val_categorical_accuracy: 0.7500\n",
      "Epoch 120/250\n",
      "7/7 [==============================] - 0s 9ms/step - loss: 0.2607 - categorical_accuracy: 0.9615 - val_loss: 0.2767 - val_categorical_accuracy: 0.9583\n",
      "Epoch 121/250\n",
      "7/7 [==============================] - 0s 9ms/step - loss: 0.2315 - categorical_accuracy: 0.9760 - val_loss: 0.2973 - val_categorical_accuracy: 0.9167\n",
      "Epoch 122/250\n",
      "7/7 [==============================] - 0s 9ms/step - loss: 0.2251 - categorical_accuracy: 0.9808 - val_loss: 0.3322 - val_categorical_accuracy: 0.8750\n",
      "Epoch 123/250\n",
      "7/7 [==============================] - 0s 9ms/step - loss: 0.2307 - categorical_accuracy: 0.9808 - val_loss: 0.2885 - val_categorical_accuracy: 0.9583\n",
      "Epoch 124/250\n",
      "7/7 [==============================] - 0s 9ms/step - loss: 0.2351 - categorical_accuracy: 0.9760 - val_loss: 0.2749 - val_categorical_accuracy: 0.9583\n",
      "Epoch 125/250\n",
      "7/7 [==============================] - 0s 9ms/step - loss: 0.2170 - categorical_accuracy: 0.9808 - val_loss: 0.3118 - val_categorical_accuracy: 0.9167\n",
      "Epoch 126/250\n",
      "7/7 [==============================] - 0s 9ms/step - loss: 0.2137 - categorical_accuracy: 0.9760 - val_loss: 0.2785 - val_categorical_accuracy: 0.9583\n",
      "Epoch 127/250\n",
      "7/7 [==============================] - 0s 9ms/step - loss: 0.2203 - categorical_accuracy: 0.9808 - val_loss: 0.2819 - val_categorical_accuracy: 0.9583\n",
      "Epoch 128/250\n",
      "7/7 [==============================] - 0s 9ms/step - loss: 0.2115 - categorical_accuracy: 0.9808 - val_loss: 0.2999 - val_categorical_accuracy: 0.9167\n",
      "Epoch 129/250\n",
      "7/7 [==============================] - 0s 9ms/step - loss: 0.2042 - categorical_accuracy: 0.9808 - val_loss: 0.2761 - val_categorical_accuracy: 0.9583\n",
      "Epoch 130/250\n",
      "7/7 [==============================] - 0s 10ms/step - loss: 0.2015 - categorical_accuracy: 0.9808 - val_loss: 0.2861 - val_categorical_accuracy: 0.9583\n",
      "Epoch 131/250\n",
      "7/7 [==============================] - 0s 9ms/step - loss: 0.2076 - categorical_accuracy: 0.9760 - val_loss: 0.3217 - val_categorical_accuracy: 0.9167\n",
      "Epoch 132/250\n",
      "7/7 [==============================] - 0s 9ms/step - loss: 0.2208 - categorical_accuracy: 0.9808 - val_loss: 0.2856 - val_categorical_accuracy: 0.9583\n",
      "Epoch 133/250\n",
      "7/7 [==============================] - 0s 10ms/step - loss: 0.2130 - categorical_accuracy: 0.9808 - val_loss: 0.2946 - val_categorical_accuracy: 0.9583\n",
      "Epoch 134/250\n",
      "7/7 [==============================] - 0s 9ms/step - loss: 0.2031 - categorical_accuracy: 0.9808 - val_loss: 0.2742 - val_categorical_accuracy: 0.9583\n",
      "Epoch 135/250\n",
      "7/7 [==============================] - 0s 9ms/step - loss: 0.2022 - categorical_accuracy: 0.9808 - val_loss: 0.2855 - val_categorical_accuracy: 0.9583\n",
      "Epoch 136/250\n",
      "7/7 [==============================] - 0s 10ms/step - loss: 0.1921 - categorical_accuracy: 0.9808 - val_loss: 0.2771 - val_categorical_accuracy: 0.9583\n",
      "Epoch 137/250\n",
      "7/7 [==============================] - 0s 10ms/step - loss: 0.1947 - categorical_accuracy: 0.9808 - val_loss: 0.3502 - val_categorical_accuracy: 0.8750\n",
      "Epoch 138/250\n",
      "7/7 [==============================] - 0s 10ms/step - loss: 0.2163 - categorical_accuracy: 0.9808 - val_loss: 0.2840 - val_categorical_accuracy: 0.9583\n",
      "Epoch 139/250\n",
      "7/7 [==============================] - 0s 10ms/step - loss: 0.1864 - categorical_accuracy: 0.9808 - val_loss: 0.2816 - val_categorical_accuracy: 0.9167\n",
      "Epoch 140/250\n",
      "7/7 [==============================] - 0s 9ms/step - loss: 0.1868 - categorical_accuracy: 0.9808 - val_loss: 0.2911 - val_categorical_accuracy: 0.9583\n",
      "Epoch 141/250\n",
      "7/7 [==============================] - 0s 9ms/step - loss: 0.1852 - categorical_accuracy: 0.9808 - val_loss: 0.2905 - val_categorical_accuracy: 0.9167\n",
      "Epoch 142/250\n",
      "7/7 [==============================] - 0s 10ms/step - loss: 0.1815 - categorical_accuracy: 0.9808 - val_loss: 0.2989 - val_categorical_accuracy: 0.9583\n",
      "Epoch 143/250\n",
      "7/7 [==============================] - 0s 10ms/step - loss: 0.2021 - categorical_accuracy: 0.9760 - val_loss: 0.3045 - val_categorical_accuracy: 0.9167\n",
      "Epoch 144/250\n",
      "7/7 [==============================] - 0s 9ms/step - loss: 0.1907 - categorical_accuracy: 0.9808 - val_loss: 0.2834 - val_categorical_accuracy: 0.9583\n",
      "Epoch 145/250\n",
      "7/7 [==============================] - 0s 10ms/step - loss: 0.1851 - categorical_accuracy: 0.9760 - val_loss: 0.3129 - val_categorical_accuracy: 0.9167\n",
      "Epoch 146/250\n",
      "7/7 [==============================] - 0s 9ms/step - loss: 0.1825 - categorical_accuracy: 0.9808 - val_loss: 0.2945 - val_categorical_accuracy: 0.9583\n",
      "Epoch 147/250\n",
      "7/7 [==============================] - 0s 9ms/step - loss: 0.1776 - categorical_accuracy: 0.9808 - val_loss: 0.2988 - val_categorical_accuracy: 0.9583\n",
      "Epoch 148/250\n",
      "7/7 [==============================] - 0s 10ms/step - loss: 0.1779 - categorical_accuracy: 0.9808 - val_loss: 0.2927 - val_categorical_accuracy: 0.9583\n",
      "Epoch 149/250\n",
      "7/7 [==============================] - 0s 10ms/step - loss: 0.1770 - categorical_accuracy: 0.9808 - val_loss: 0.2896 - val_categorical_accuracy: 0.9583\n",
      "Epoch 150/250\n"
     ]
    },
    {
     "name": "stdout",
     "output_type": "stream",
     "text": [
      "7/7 [==============================] - 0s 9ms/step - loss: 0.1723 - categorical_accuracy: 0.9808 - val_loss: 0.2924 - val_categorical_accuracy: 0.9583\n",
      "Epoch 151/250\n",
      "7/7 [==============================] - 0s 9ms/step - loss: 0.1798 - categorical_accuracy: 0.9808 - val_loss: 0.3287 - val_categorical_accuracy: 0.8750\n",
      "Epoch 152/250\n",
      "7/7 [==============================] - 0s 10ms/step - loss: 0.2069 - categorical_accuracy: 0.9712 - val_loss: 0.2950 - val_categorical_accuracy: 0.9583\n",
      "Epoch 153/250\n",
      "7/7 [==============================] - 0s 9ms/step - loss: 0.1991 - categorical_accuracy: 0.9760 - val_loss: 0.3017 - val_categorical_accuracy: 0.9583\n",
      "Epoch 154/250\n",
      "7/7 [==============================] - 0s 9ms/step - loss: 0.1678 - categorical_accuracy: 0.9808 - val_loss: 0.2881 - val_categorical_accuracy: 0.9583\n",
      "Epoch 155/250\n",
      "7/7 [==============================] - 0s 9ms/step - loss: 0.1740 - categorical_accuracy: 0.9808 - val_loss: 0.3038 - val_categorical_accuracy: 0.9583\n",
      "Epoch 156/250\n",
      "7/7 [==============================] - 0s 9ms/step - loss: 0.1677 - categorical_accuracy: 0.9808 - val_loss: 0.3006 - val_categorical_accuracy: 0.9583\n",
      "Epoch 157/250\n",
      "7/7 [==============================] - 0s 9ms/step - loss: 0.1842 - categorical_accuracy: 0.9808 - val_loss: 0.2944 - val_categorical_accuracy: 0.9583\n",
      "Epoch 158/250\n",
      "7/7 [==============================] - 0s 9ms/step - loss: 0.1626 - categorical_accuracy: 0.9808 - val_loss: 0.3324 - val_categorical_accuracy: 0.9167\n",
      "Epoch 159/250\n",
      "7/7 [==============================] - 0s 9ms/step - loss: 0.1818 - categorical_accuracy: 0.9760 - val_loss: 0.2920 - val_categorical_accuracy: 0.9583\n",
      "Epoch 160/250\n",
      "7/7 [==============================] - 0s 9ms/step - loss: 0.1671 - categorical_accuracy: 0.9808 - val_loss: 0.2921 - val_categorical_accuracy: 0.9583\n",
      "Epoch 161/250\n",
      "7/7 [==============================] - 0s 9ms/step - loss: 0.1641 - categorical_accuracy: 0.9808 - val_loss: 0.2898 - val_categorical_accuracy: 0.9583\n",
      "Epoch 162/250\n",
      "7/7 [==============================] - 0s 9ms/step - loss: 0.1640 - categorical_accuracy: 0.9808 - val_loss: 0.2909 - val_categorical_accuracy: 0.9583\n",
      "Epoch 163/250\n",
      "7/7 [==============================] - 0s 10ms/step - loss: 0.1606 - categorical_accuracy: 0.9808 - val_loss: 0.3140 - val_categorical_accuracy: 0.9583\n",
      "Epoch 164/250\n",
      "7/7 [==============================] - 0s 9ms/step - loss: 0.1629 - categorical_accuracy: 0.9808 - val_loss: 0.3229 - val_categorical_accuracy: 0.9167\n",
      "Epoch 165/250\n",
      "7/7 [==============================] - 0s 9ms/step - loss: 0.1694 - categorical_accuracy: 0.9808 - val_loss: 0.3077 - val_categorical_accuracy: 0.9583\n",
      "Epoch 166/250\n",
      "7/7 [==============================] - 0s 9ms/step - loss: 0.1643 - categorical_accuracy: 0.9808 - val_loss: 0.3084 - val_categorical_accuracy: 0.9583\n",
      "Epoch 167/250\n",
      "7/7 [==============================] - 0s 9ms/step - loss: 0.1716 - categorical_accuracy: 0.9808 - val_loss: 0.3128 - val_categorical_accuracy: 0.9583\n",
      "Epoch 168/250\n",
      "7/7 [==============================] - 0s 9ms/step - loss: 0.1579 - categorical_accuracy: 0.9808 - val_loss: 0.3118 - val_categorical_accuracy: 0.9583\n",
      "Epoch 169/250\n",
      "7/7 [==============================] - 0s 10ms/step - loss: 0.1619 - categorical_accuracy: 0.9760 - val_loss: 0.3174 - val_categorical_accuracy: 0.9583\n",
      "Epoch 170/250\n",
      "7/7 [==============================] - 0s 9ms/step - loss: 0.1650 - categorical_accuracy: 0.9808 - val_loss: 0.3108 - val_categorical_accuracy: 0.9583\n",
      "Epoch 171/250\n",
      "7/7 [==============================] - 0s 10ms/step - loss: 0.1596 - categorical_accuracy: 0.9808 - val_loss: 0.3332 - val_categorical_accuracy: 0.9167\n",
      "Epoch 172/250\n",
      "7/7 [==============================] - 0s 10ms/step - loss: 0.1568 - categorical_accuracy: 0.9808 - val_loss: 0.3205 - val_categorical_accuracy: 0.9583\n",
      "Epoch 173/250\n",
      "7/7 [==============================] - 0s 9ms/step - loss: 0.1565 - categorical_accuracy: 0.9808 - val_loss: 0.3420 - val_categorical_accuracy: 0.9167\n",
      "Epoch 174/250\n",
      "7/7 [==============================] - 0s 9ms/step - loss: 0.1684 - categorical_accuracy: 0.9808 - val_loss: 0.3384 - val_categorical_accuracy: 0.9583\n",
      "Epoch 175/250\n",
      "7/7 [==============================] - 0s 9ms/step - loss: 0.1564 - categorical_accuracy: 0.9808 - val_loss: 0.3257 - val_categorical_accuracy: 0.9167\n",
      "Epoch 176/250\n",
      "7/7 [==============================] - 0s 10ms/step - loss: 0.1499 - categorical_accuracy: 0.9808 - val_loss: 0.3076 - val_categorical_accuracy: 0.9583\n",
      "Epoch 177/250\n",
      "7/7 [==============================] - 0s 9ms/step - loss: 0.1503 - categorical_accuracy: 0.9808 - val_loss: 0.3021 - val_categorical_accuracy: 0.9583\n",
      "Epoch 178/250\n",
      "7/7 [==============================] - 0s 9ms/step - loss: 0.1476 - categorical_accuracy: 0.9808 - val_loss: 0.3230 - val_categorical_accuracy: 0.9583\n",
      "Epoch 179/250\n",
      "7/7 [==============================] - 0s 9ms/step - loss: 0.1556 - categorical_accuracy: 0.9808 - val_loss: 0.3044 - val_categorical_accuracy: 0.9583\n",
      "Epoch 180/250\n",
      "7/7 [==============================] - 0s 9ms/step - loss: 0.1527 - categorical_accuracy: 0.9808 - val_loss: 0.3549 - val_categorical_accuracy: 0.9167\n",
      "Epoch 181/250\n",
      "7/7 [==============================] - 0s 9ms/step - loss: 0.1525 - categorical_accuracy: 0.9808 - val_loss: 0.3420 - val_categorical_accuracy: 0.9583\n",
      "Epoch 182/250\n",
      "7/7 [==============================] - 0s 10ms/step - loss: 0.1458 - categorical_accuracy: 0.9808 - val_loss: 0.3051 - val_categorical_accuracy: 0.9167\n",
      "Epoch 183/250\n",
      "7/7 [==============================] - 0s 9ms/step - loss: 0.1586 - categorical_accuracy: 0.9808 - val_loss: 0.3067 - val_categorical_accuracy: 0.9583\n",
      "Epoch 184/250\n",
      "7/7 [==============================] - 0s 9ms/step - loss: 0.1506 - categorical_accuracy: 0.9808 - val_loss: 0.3074 - val_categorical_accuracy: 0.9583\n",
      "Epoch 185/250\n",
      "7/7 [==============================] - 0s 9ms/step - loss: 0.1477 - categorical_accuracy: 0.9760 - val_loss: 0.3107 - val_categorical_accuracy: 0.9583\n",
      "Epoch 186/250\n",
      "7/7 [==============================] - 0s 9ms/step - loss: 0.1496 - categorical_accuracy: 0.9808 - val_loss: 0.3142 - val_categorical_accuracy: 0.9583\n",
      "Epoch 187/250\n",
      "7/7 [==============================] - 0s 10ms/step - loss: 0.1514 - categorical_accuracy: 0.9760 - val_loss: 0.3235 - val_categorical_accuracy: 0.9583\n",
      "Epoch 188/250\n",
      "7/7 [==============================] - 0s 10ms/step - loss: 0.1538 - categorical_accuracy: 0.9760 - val_loss: 0.3103 - val_categorical_accuracy: 0.9583\n",
      "Epoch 189/250\n",
      "7/7 [==============================] - 0s 9ms/step - loss: 0.1545 - categorical_accuracy: 0.9808 - val_loss: 0.3153 - val_categorical_accuracy: 0.9583\n",
      "Epoch 190/250\n",
      "7/7 [==============================] - 0s 9ms/step - loss: 0.1444 - categorical_accuracy: 0.9808 - val_loss: 0.3175 - val_categorical_accuracy: 0.9583\n",
      "Epoch 191/250\n",
      "7/7 [==============================] - 0s 10ms/step - loss: 0.1457 - categorical_accuracy: 0.9808 - val_loss: 0.3087 - val_categorical_accuracy: 0.9583\n",
      "Epoch 192/250\n",
      "7/7 [==============================] - 0s 10ms/step - loss: 0.1400 - categorical_accuracy: 0.9808 - val_loss: 0.3359 - val_categorical_accuracy: 0.9583\n",
      "Epoch 193/250\n",
      "7/7 [==============================] - 0s 9ms/step - loss: 0.1537 - categorical_accuracy: 0.9808 - val_loss: 0.3054 - val_categorical_accuracy: 0.9167\n",
      "Epoch 194/250\n",
      "7/7 [==============================] - 0s 10ms/step - loss: 0.1422 - categorical_accuracy: 0.9808 - val_loss: 0.3365 - val_categorical_accuracy: 0.9583\n",
      "Epoch 195/250\n",
      "7/7 [==============================] - 0s 10ms/step - loss: 0.1431 - categorical_accuracy: 0.9808 - val_loss: 0.3188 - val_categorical_accuracy: 0.9583\n",
      "Epoch 196/250\n",
      "7/7 [==============================] - 0s 10ms/step - loss: 0.1482 - categorical_accuracy: 0.9760 - val_loss: 0.3356 - val_categorical_accuracy: 0.9167\n",
      "Epoch 197/250\n",
      "7/7 [==============================] - 0s 10ms/step - loss: 0.1538 - categorical_accuracy: 0.9808 - val_loss: 0.3495 - val_categorical_accuracy: 0.9583\n",
      "Epoch 198/250\n",
      "7/7 [==============================] - 0s 10ms/step - loss: 0.1511 - categorical_accuracy: 0.9808 - val_loss: 0.3179 - val_categorical_accuracy: 0.9583\n",
      "Epoch 199/250\n"
     ]
    },
    {
     "name": "stdout",
     "output_type": "stream",
     "text": [
      "7/7 [==============================] - 0s 9ms/step - loss: 0.1525 - categorical_accuracy: 0.9760 - val_loss: 0.3242 - val_categorical_accuracy: 0.9583\n",
      "Epoch 200/250\n",
      "7/7 [==============================] - 0s 10ms/step - loss: 0.1420 - categorical_accuracy: 0.9808 - val_loss: 0.3564 - val_categorical_accuracy: 0.9583\n",
      "Epoch 201/250\n",
      "7/7 [==============================] - 0s 9ms/step - loss: 0.1499 - categorical_accuracy: 0.9808 - val_loss: 0.3585 - val_categorical_accuracy: 0.9167\n",
      "Epoch 202/250\n",
      "7/7 [==============================] - 0s 9ms/step - loss: 0.1369 - categorical_accuracy: 0.9808 - val_loss: 0.3423 - val_categorical_accuracy: 0.9583\n",
      "Epoch 203/250\n",
      "7/7 [==============================] - 0s 10ms/step - loss: 0.1361 - categorical_accuracy: 0.9760 - val_loss: 0.3068 - val_categorical_accuracy: 0.9583\n",
      "Epoch 204/250\n",
      "7/7 [==============================] - 0s 9ms/step - loss: 0.1340 - categorical_accuracy: 0.9808 - val_loss: 0.3028 - val_categorical_accuracy: 0.9583\n",
      "Epoch 205/250\n",
      "7/7 [==============================] - 0s 9ms/step - loss: 0.1409 - categorical_accuracy: 0.9808 - val_loss: 0.3458 - val_categorical_accuracy: 0.9583\n",
      "Epoch 206/250\n",
      "7/7 [==============================] - 0s 9ms/step - loss: 0.1515 - categorical_accuracy: 0.9808 - val_loss: 0.3499 - val_categorical_accuracy: 0.9167\n",
      "Epoch 207/250\n",
      "7/7 [==============================] - 0s 9ms/step - loss: 0.1360 - categorical_accuracy: 0.9808 - val_loss: 0.3575 - val_categorical_accuracy: 0.9583\n",
      "Epoch 208/250\n",
      "7/7 [==============================] - 0s 9ms/step - loss: 0.1404 - categorical_accuracy: 0.9808 - val_loss: 0.3070 - val_categorical_accuracy: 0.9583\n",
      "Epoch 209/250\n",
      "7/7 [==============================] - 0s 9ms/step - loss: 0.1291 - categorical_accuracy: 0.9808 - val_loss: 0.3211 - val_categorical_accuracy: 0.9583\n",
      "Epoch 210/250\n",
      "7/7 [==============================] - 0s 9ms/step - loss: 0.1304 - categorical_accuracy: 0.9808 - val_loss: 0.3088 - val_categorical_accuracy: 0.9583\n",
      "Epoch 211/250\n",
      "7/7 [==============================] - 0s 9ms/step - loss: 0.1293 - categorical_accuracy: 0.9808 - val_loss: 0.3330 - val_categorical_accuracy: 0.9583\n",
      "Epoch 212/250\n",
      "7/7 [==============================] - 0s 10ms/step - loss: 0.1304 - categorical_accuracy: 0.9808 - val_loss: 0.3430 - val_categorical_accuracy: 0.9583\n",
      "Epoch 213/250\n",
      "7/7 [==============================] - 0s 10ms/step - loss: 0.1306 - categorical_accuracy: 0.9760 - val_loss: 0.3207 - val_categorical_accuracy: 0.9583\n",
      "Epoch 214/250\n",
      "7/7 [==============================] - 0s 9ms/step - loss: 0.1295 - categorical_accuracy: 0.9808 - val_loss: 0.3182 - val_categorical_accuracy: 0.9583\n",
      "Epoch 215/250\n",
      "7/7 [==============================] - 0s 9ms/step - loss: 0.1245 - categorical_accuracy: 0.9808 - val_loss: 0.3057 - val_categorical_accuracy: 0.9583\n",
      "Epoch 216/250\n",
      "7/7 [==============================] - 0s 9ms/step - loss: 0.1275 - categorical_accuracy: 0.9760 - val_loss: 0.3287 - val_categorical_accuracy: 0.9583\n",
      "Epoch 217/250\n",
      "7/7 [==============================] - 0s 9ms/step - loss: 0.1262 - categorical_accuracy: 0.9808 - val_loss: 0.3092 - val_categorical_accuracy: 0.9583\n",
      "Epoch 218/250\n",
      "7/7 [==============================] - 0s 10ms/step - loss: 0.1293 - categorical_accuracy: 0.9808 - val_loss: 0.3427 - val_categorical_accuracy: 0.9583\n",
      "Epoch 219/250\n",
      "7/7 [==============================] - 0s 10ms/step - loss: 0.1327 - categorical_accuracy: 0.9760 - val_loss: 0.3055 - val_categorical_accuracy: 0.9583\n",
      "Epoch 220/250\n",
      "7/7 [==============================] - 0s 10ms/step - loss: 0.1324 - categorical_accuracy: 0.9808 - val_loss: 0.3263 - val_categorical_accuracy: 0.9583\n",
      "Epoch 221/250\n",
      "7/7 [==============================] - 0s 10ms/step - loss: 0.1269 - categorical_accuracy: 0.9760 - val_loss: 0.3237 - val_categorical_accuracy: 0.9583\n",
      "Epoch 222/250\n",
      "7/7 [==============================] - 0s 10ms/step - loss: 0.1231 - categorical_accuracy: 0.9808 - val_loss: 0.3412 - val_categorical_accuracy: 0.9583\n",
      "Epoch 223/250\n",
      "7/7 [==============================] - 0s 10ms/step - loss: 0.1245 - categorical_accuracy: 0.9808 - val_loss: 0.3198 - val_categorical_accuracy: 0.9167\n",
      "Epoch 224/250\n",
      "7/7 [==============================] - 0s 9ms/step - loss: 0.1317 - categorical_accuracy: 0.9760 - val_loss: 0.3494 - val_categorical_accuracy: 0.9583\n",
      "Epoch 225/250\n",
      "7/7 [==============================] - 0s 9ms/step - loss: 0.1402 - categorical_accuracy: 0.9760 - val_loss: 0.2802 - val_categorical_accuracy: 0.9167\n",
      "Epoch 226/250\n",
      "7/7 [==============================] - 0s 10ms/step - loss: 0.1418 - categorical_accuracy: 0.9808 - val_loss: 0.3672 - val_categorical_accuracy: 0.9583\n",
      "Epoch 227/250\n",
      "7/7 [==============================] - 0s 10ms/step - loss: 0.1409 - categorical_accuracy: 0.9760 - val_loss: 0.3265 - val_categorical_accuracy: 0.9583\n",
      "Epoch 228/250\n",
      "7/7 [==============================] - 0s 10ms/step - loss: 0.1362 - categorical_accuracy: 0.9808 - val_loss: 0.3430 - val_categorical_accuracy: 0.9167\n",
      "Epoch 229/250\n",
      "7/7 [==============================] - 0s 10ms/step - loss: 0.1530 - categorical_accuracy: 0.9663 - val_loss: 0.4133 - val_categorical_accuracy: 0.9583\n",
      "Epoch 230/250\n",
      "7/7 [==============================] - 0s 10ms/step - loss: 0.1622 - categorical_accuracy: 0.9663 - val_loss: 0.3166 - val_categorical_accuracy: 0.9167\n",
      "Epoch 231/250\n",
      "7/7 [==============================] - 0s 9ms/step - loss: 0.1383 - categorical_accuracy: 0.9760 - val_loss: 0.3363 - val_categorical_accuracy: 0.9583\n",
      "Epoch 232/250\n",
      "7/7 [==============================] - 0s 10ms/step - loss: 0.1315 - categorical_accuracy: 0.9808 - val_loss: 0.3122 - val_categorical_accuracy: 0.9583\n",
      "Epoch 233/250\n",
      "7/7 [==============================] - 0s 9ms/step - loss: 0.1276 - categorical_accuracy: 0.9808 - val_loss: 0.2985 - val_categorical_accuracy: 0.9583\n",
      "Epoch 234/250\n",
      "7/7 [==============================] - 0s 10ms/step - loss: 0.1302 - categorical_accuracy: 0.9808 - val_loss: 0.3318 - val_categorical_accuracy: 0.9583\n",
      "Epoch 235/250\n",
      "7/7 [==============================] - 0s 10ms/step - loss: 0.1263 - categorical_accuracy: 0.9808 - val_loss: 0.3023 - val_categorical_accuracy: 0.9583\n",
      "Epoch 236/250\n",
      "7/7 [==============================] - 0s 10ms/step - loss: 0.1213 - categorical_accuracy: 0.9808 - val_loss: 0.3336 - val_categorical_accuracy: 0.9583\n",
      "Epoch 237/250\n",
      "7/7 [==============================] - 0s 10ms/step - loss: 0.1228 - categorical_accuracy: 0.9808 - val_loss: 0.3103 - val_categorical_accuracy: 0.9583\n",
      "Epoch 238/250\n",
      "7/7 [==============================] - 0s 10ms/step - loss: 0.1251 - categorical_accuracy: 0.9808 - val_loss: 0.3517 - val_categorical_accuracy: 0.9583\n",
      "Epoch 239/250\n",
      "7/7 [==============================] - 0s 10ms/step - loss: 0.1169 - categorical_accuracy: 0.9808 - val_loss: 0.3365 - val_categorical_accuracy: 0.9167\n",
      "Epoch 240/250\n",
      "7/7 [==============================] - 0s 10ms/step - loss: 0.1233 - categorical_accuracy: 0.9808 - val_loss: 0.3569 - val_categorical_accuracy: 0.9583\n",
      "Epoch 241/250\n",
      "7/7 [==============================] - 0s 10ms/step - loss: 0.1193 - categorical_accuracy: 0.9808 - val_loss: 0.3087 - val_categorical_accuracy: 0.9583\n",
      "Epoch 242/250\n",
      "7/7 [==============================] - 0s 10ms/step - loss: 0.1344 - categorical_accuracy: 0.9760 - val_loss: 0.3438 - val_categorical_accuracy: 0.9583\n",
      "Epoch 243/250\n",
      "7/7 [==============================] - 0s 10ms/step - loss: 0.1359 - categorical_accuracy: 0.9808 - val_loss: 0.3273 - val_categorical_accuracy: 0.9167\n",
      "Epoch 244/250\n",
      "7/7 [==============================] - 0s 10ms/step - loss: 0.1403 - categorical_accuracy: 0.9808 - val_loss: 0.3936 - val_categorical_accuracy: 0.9583\n",
      "Epoch 245/250\n",
      "7/7 [==============================] - 0s 10ms/step - loss: 0.1237 - categorical_accuracy: 0.9808 - val_loss: 0.3310 - val_categorical_accuracy: 0.9167\n",
      "Epoch 246/250\n",
      "7/7 [==============================] - 0s 10ms/step - loss: 0.1292 - categorical_accuracy: 0.9808 - val_loss: 0.3650 - val_categorical_accuracy: 0.9583\n",
      "Epoch 247/250\n",
      "7/7 [==============================] - 0s 10ms/step - loss: 0.1210 - categorical_accuracy: 0.9808 - val_loss: 0.2924 - val_categorical_accuracy: 0.9583\n",
      "Epoch 248/250\n"
     ]
    },
    {
     "name": "stdout",
     "output_type": "stream",
     "text": [
      "7/7 [==============================] - 0s 10ms/step - loss: 0.1226 - categorical_accuracy: 0.9808 - val_loss: 0.3567 - val_categorical_accuracy: 0.9583\n",
      "Epoch 249/250\n",
      "7/7 [==============================] - 0s 10ms/step - loss: 0.1170 - categorical_accuracy: 0.9808 - val_loss: 0.3446 - val_categorical_accuracy: 0.9583\n",
      "Epoch 250/250\n",
      "7/7 [==============================] - 0s 10ms/step - loss: 0.1180 - categorical_accuracy: 0.9808 - val_loss: 0.3594 - val_categorical_accuracy: 0.9583\n"
     ]
    }
   ],
   "source": [
    "history = model.fit(X_train, y_train, validation_split = 0.1, epochs=250)"
   ]
  },
  {
   "cell_type": "code",
   "execution_count": 21,
   "id": "e4799bcc",
   "metadata": {
    "scrolled": true
   },
   "outputs": [
    {
     "name": "stdout",
     "output_type": "stream",
     "text": [
      "Model: \"sequential\"\n",
      "_________________________________________________________________\n",
      " Layer (type)                Output Shape              Param #   \n",
      "=================================================================\n",
      " dense (Dense)               (None, 32)                2048      \n",
      "                                                                 \n",
      " dense_1 (Dense)             (None, 32)                1056      \n",
      "                                                                 \n",
      " dense_2 (Dense)             (None, 32)                1056      \n",
      "                                                                 \n",
      " dense_3 (Dense)             (None, 5)                 165       \n",
      "                                                                 \n",
      "=================================================================\n",
      "Total params: 4,325\n",
      "Trainable params: 4,325\n",
      "Non-trainable params: 0\n",
      "_________________________________________________________________\n"
     ]
    }
   ],
   "source": [
    "model.summary()"
   ]
  },
  {
   "cell_type": "code",
   "execution_count": 22,
   "id": "9677f76c",
   "metadata": {},
   "outputs": [
    {
     "data": {
      "text/plain": [
       "<matplotlib.legend.Legend at 0x292fb8970>"
      ]
     },
     "execution_count": 22,
     "metadata": {},
     "output_type": "execute_result"
    },
    {
     "data": {
      "image/png": "[encoded data removed]",
      "text/plain": [
       "<Figure size 432x288 with 1 Axes>"
      ]
     },
     "metadata": {
      "needs_background": "light"
     },
     "output_type": "display_data"
    }
   ],
   "source": [
    "plt.plot(history.history['categorical_accuracy'], label = 'train_data')\n",
    "plt.plot(history.history['val_categorical_accuracy'], label = 'validation_data')\n",
    "plt.legend()"
   ]
  },
  {
   "cell_type": "code",
   "execution_count": 23,
   "id": "c88a4abc",
   "metadata": {},
   "outputs": [
    {
     "data": {
      "text/plain": [
       "<matplotlib.legend.Legend at 0x17f9caee0>"
      ]
     },
     "execution_count": 23,
     "metadata": {},
     "output_type": "execute_result"
    },
    {
     "data": {
      "image/png": "[encoded data removed]",
      "text/plain": [
       "<Figure size 432x288 with 1 Axes>"
      ]
     },
     "metadata": {
      "needs_background": "light"
     },
     "output_type": "display_data"
    }
   ],
   "source": [
    "plt.plot(history.history['loss'], label = 'train_data')\n",
    "plt.plot(history.history['val_loss'], label = 'validation_data')\n",
    "plt.legend()"
   ]
  },
  {
   "cell_type": "markdown",
   "id": "741feab9",
   "metadata": {},
   "source": [
    "# Evaluate model"
   ]
  },
  {
   "cell_type": "code",
   "execution_count": 24,
   "id": "05e27ea9",
   "metadata": {},
   "outputs": [
    {
     "name": "stdout",
     "output_type": "stream",
     "text": [
      "8/8 [==============================] - 0s 8ms/step - loss: 0.1380 - categorical_accuracy: 0.9784\n",
      "1/1 [==============================] - 0s 26ms/step - loss: 0.3850 - categorical_accuracy: 0.9615\n"
     ]
    },
    {
     "data": {
      "text/plain": [
       "([0.1380220204591751, 0.9784482717514038],\n",
       " [0.38499554991722107, 0.9615384936332703])"
      ]
     },
     "execution_count": 24,
     "metadata": {},
     "output_type": "execute_result"
    }
   ],
   "source": [
    "# Show score for train and test data\n",
    "model.evaluate(X_train, y_train), model.evaluate(X_test, y_test)"
   ]
  },
  {
   "cell_type": "code",
   "execution_count": 25,
   "id": "76b4a2f2",
   "metadata": {},
   "outputs": [],
   "source": [
    "# Determine predictions for test data\n",
    "y_pred = model.predict(X_test)"
   ]
  },
  {
   "cell_type": "code",
   "execution_count": 26,
   "id": "2229235a",
   "metadata": {},
   "outputs": [
    {
     "data": {
      "image/png": "[encoded data removed]",
      "text/plain": [
       "<Figure size 720x720 with 2 Axes>"
      ]
     },
     "metadata": {
      "needs_background": "light"
     },
     "output_type": "display_data"
    }
   ],
   "source": [
    "# Plot confusion matrix\n",
    "cm = confusion_matrix(y_true=np.argmax(y_test, axis=1), y_pred=np.argmax(y_pred, axis=1))\n",
    "\n",
    "disp = ConfusionMatrixDisplay(confusion_matrix=cm,\n",
    "                             display_labels=actions)\n",
    "\n",
    "fig, ax = plt.subplots(figsize=(10,10))\n",
    "\n",
    "disp.plot(ax=ax);"
   ]
  },
  {
   "cell_type": "code",
   "execution_count": null,
   "id": "bffc64e6",
   "metadata": {},
   "outputs": [],
   "source": [
    "model.save('hand_gesture_model.h5')"
   ]
  },
  {
   "cell_type": "markdown",
   "id": "5fe89648",
   "metadata": {},
   "source": [
    "# Realtime gesture detection"
   ]
  },
  {
   "cell_type": "code",
   "execution_count": 33,
   "id": "8e2e7da0",
   "metadata": {},
   "outputs": [],
   "source": [
    "# Load model from h5 file hand_detection_model.ipynbre for testing purposes)\n",
    "model = load_model('hand_gesture_model.h5')"
   ]
  },
  {
   "cell_type": "code",
   "execution_count": 44,
   "id": "bafedba4",
   "metadata": {},
   "outputs": [],
   "source": [
    "cap = cv2.VideoCapture(1)\n",
    "cv2.startWindowThread()\n",
    "\n",
    "# Initialize variables\n",
    "datetime_prv = datetime.now() - timedelta(seconds=1)\n",
    "class_prob = 0\n",
    "\n",
    "# Initiate holistic model\n",
    "with mp_holistic.Holistic(min_detection_confidence=0.5, min_tracking_confidence=0.5) as holistic:\n",
    "    \n",
    "    while cap.isOpened():\n",
    "        # Read frame\n",
    "        ret, frame = cap.read()\n",
    "        \n",
    "        # Make Detections\n",
    "        image, results = mediapipe_detection(frame, holistic)\n",
    "\n",
    "        # Draw face_landmarks, pose_landmarks, left_hand_landmarks, right_hand_landmarks\n",
    "        draw_landmarks(image, results)\n",
    "        \n",
    "        # NEW predict hand gesture\n",
    "        if datetime.now() >= datetime_prv + timedelta(seconds=0.5) and results.right_hand_landmarks:\n",
    "            img = image\n",
    "            img = cv2.cvtColor(img, cv2.COLOR_BGR2RGB)\n",
    "            keypoints = extract_keypoints(results) \n",
    "            keypoints = keypoints.reshape(1,-1)\n",
    "            y_pred = model.predict(keypoints)\n",
    "            class_id = np.argmax(y_pred)\n",
    "            class_prob = np.max(y_pred)\n",
    "            coords = get_bbox_coords(results)\n",
    "            \n",
    "        # NEW draw handgesture if detetced\n",
    "        if class_prob > 0.5 and results.right_hand_landmarks:\n",
    "        \n",
    "            # Draw bbox around hand\n",
    "            draw_bbox(image, results)\n",
    "\n",
    "            # Draw label box\n",
    "            coords = get_bbox_coords(results)\n",
    "            cv2.rectangle(image,\n",
    "                          tuple(np.add(np.multiply(coords[:2], [1920, 1080]).astype(int), [0, -30])),\n",
    "                          tuple(np.add(np.multiply(coords[:2], [1920, 1080]).astype(int), [80, 0])),\n",
    "                          (0,0,255), -1)\n",
    "\n",
    "            # Put text in label\n",
    "            cv2.putText(image, f'{actions[class_id]}', \n",
    "                        tuple(np.add(np.multiply(coords[:2], [1920, 1080]).astype(int), [0, -5])),\n",
    "                        cv2.FONT_HERSHEY_SIMPLEX, 1, (255, 255, 255), 2, cv2.LINE_AA)\n",
    "        \n",
    "        # Show to screen\n",
    "        cv2.imshow('Video Feed', image)\n",
    "        cv2.waitKey(1)\n",
    "\n",
    "        # Break program\n",
    "        if cv2.waitKey(1) & 0xFF == ord('q'):\n",
    "            break\n",
    "\n",
    "    cap.release()\n",
    "    cv2.destroyAllWindows()"
   ]
  },
  {
   "cell_type": "code",
   "execution_count": 45,
   "id": "5f5eec93",
   "metadata": {},
   "outputs": [],
   "source": [
    "cap.release()\n",
    "cv2.destroyAllWindows()"
   ]
  }
 ],
 "metadata": {
  "interpreter": {
   "hash": "4389d3574c8dc0acd3d2352aef74950413868cf79a3d29b0accd92f94082a3a4"
  },
  "kernelspec": {
   "display_name": "Python (tello_ai)",
   "language": "python",
   "name": "conda-env-tello_ai-py"
  },
  "language_info": {
   "codemirror_mode": {
    "name": "ipython",
    "version": 3
   },
   "file_extension": ".py",
   "mimetype": "text/x-python",
   "name": "python",
   "nbconvert_exporter": "python",
   "pygments_lexer": "ipython3",
   "version": "3.9.7"
  },
  "toc": {
   "base_numbering": 1,
   "nav_menu": {},
   "number_sections": true,
   "sideBar": true,
   "skip_h1_title": false,
   "title_cell": "Table of Contents",
   "title_sidebar": "Contents",
   "toc_cell": false,
   "toc_position": {
    "height": "calc(100% - 180px)",
    "left": "10px",
    "top": "150px",
    "width": "384px"
   },
   "toc_section_display": true,
   "toc_window_display": true
  }
 },
 "nbformat": 4,
 "nbformat_minor": 5
}
