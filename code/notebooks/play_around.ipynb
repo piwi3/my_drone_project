{
 "cells": [
  {
   "cell_type": "code",
   "execution_count": 1,
   "id": "c5a9cb76",
   "metadata": {},
   "outputs": [],
   "source": [
    "import re"
   ]
  },
  {
   "cell_type": "code",
   "execution_count": 2,
   "id": "8cd13bcb",
   "metadata": {},
   "outputs": [],
   "source": [
    "text = 'spicy take off'"
   ]
  },
  {
   "cell_type": "code",
   "execution_count": 5,
   "id": "d4dec374",
   "metadata": {},
   "outputs": [
    {
     "name": "stdout",
     "output_type": "stream",
     "text": [
      "->  spicy take off\n",
      "yes\n",
      "take off\n"
     ]
    }
   ],
   "source": [
    "if text != '':\n",
    "    print('-> ', text)\n",
    "    if re.findall('spicy|spice|i', text.split()[0].lower()):\n",
    "        print('yes')\n",
    "        command = ' '.join(text.split()[1:])\n",
    "        print(command)"
   ]
  },
  {
   "cell_type": "code",
   "execution_count": null,
   "id": "e4200422",
   "metadata": {},
   "outputs": [],
   "source": [
    "text.split()[0].lower()"
   ]
  }
 ],
 "metadata": {
  "kernelspec": {
   "display_name": "Python (tello_ai)",
   "language": "python",
   "name": "conda-env-tello_ai-py"
  },
  "language_info": {
   "codemirror_mode": {
    "name": "ipython",
    "version": 3
   },
   "file_extension": ".py",
   "mimetype": "text/x-python",
   "name": "python",
   "nbconvert_exporter": "python",
   "pygments_lexer": "ipython3",
   "version": "3.9.7"
  },
  "toc": {
   "base_numbering": 1,
   "nav_menu": {},
   "number_sections": true,
   "sideBar": true,
   "skip_h1_title": false,
   "title_cell": "Table of Contents",
   "title_sidebar": "Contents",
   "toc_cell": false,
   "toc_position": {},
   "toc_section_display": true,
   "toc_window_display": false
  }
 },
 "nbformat": 4,
 "nbformat_minor": 5
}
